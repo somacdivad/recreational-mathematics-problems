{
 "cells": [
  {
   "cell_type": "markdown",
   "id": "76ac5b7b",
   "metadata": {},
   "source": [
    "[YouTube](https://youtu.be/kQaTzqngI4M) || [GitHub](https://github.com/somacdivad/recreational-mathematics-problems/tree/main/problems/2021-08-08) || [Twitter](https://twitter.com/somacdivad/status/1425517816191586316)\n",
    "\n",
    "pikafoop's solution to...\n",
    "\n",
    "# Largest And Smallest Numbers\n",
    "\n",
    "This week's puzzle continues the divisibility theme from last week.\n",
    "\n",
    "There are two parts:\n",
    "\n",
    "a) For each value of *n*, from 2 to 16, find the largest and smallest nine-digit numbers, containing each of the nine nonzero digits exactly once, that are exactly divisible by *n*.\n",
    "\n",
    "b) Do the same for ten-digit numbers containing each of the ten digits (including 0) exactly once. (Note that 0 may not be the first digit of a number.)\n",
    "\n",
    "_This problem is Problem 4.33 in Problem Solving Through Recreational Mathematics by Bonnie Averbach and Orin Chein._\n",
    "\n",
    "Feel free to use your favorite programming language to solve the problem.\n",
    "\n",
    "You can submit solutions via pull request or by emailing your code to recmath@davidamos.dev. If you submit a pull request, make sure your solution is added to the `solutions/community/` folder.\n",
    "\n",
    "> **Note:** By submitting a solution you agree to make the code for your solution available under the MIT license.\n",
    "\n",
    "I'll feature my solution and a couple of my favorite submitted solutions in a YouTube video!"
   ]
  },
  {
   "cell_type": "markdown",
   "id": "80ab0f33",
   "metadata": {},
   "source": [
    "<hr/>\n",
    "\n",
    "## STEP 1: Brute Force\n",
    "\n",
    "With a modern computer, we can brute-force the problem in a matter of seconds. We'll do that first so we have an answer table to check ourselves against, then be clever later."
   ]
  },
  {
   "cell_type": "code",
   "execution_count": 1,
   "id": "7b56d590",
   "metadata": {},
   "outputs": [
    {
     "name": "stdout",
     "output_type": "stream",
     "text": [
      "Wall time: 139 ms\n",
      "Wall time: 1.43 s\n",
      "362,880 pandigital 1-9 numbers\n",
      "3,265,920 pandigital 0-9 numbers\n"
     ]
    }
   ],
   "source": [
    "from itertools import permutations\n",
    "\n",
    "digit_cs_1to9 = '123456789'\n",
    "digit_cs_0to9 = '0123456789'\n",
    "\n",
    "%time pandigs_1to9 = [int(''.join(cs)) for cs in permutations(digit_cs_1to9)]\n",
    "%time pandigs_0to9 = [int(''.join(cs)) for cs in permutations(digit_cs_0to9) if cs[0] != '0']\n",
    "\n",
    "print(f\"{len(pandigs_1to9):,} pandigital 1-9 numbers\")\n",
    "print(f\"{len(pandigs_0to9):,} pandigital 0-9 numbers\")"
   ]
  },
  {
   "cell_type": "code",
   "execution_count": 2,
   "id": "409c4b1d",
   "metadata": {},
   "outputs": [
    {
     "name": "stdout",
     "output_type": "stream",
     "text": [
      "2-divisible:\n",
      "    Largest  1-9:\t987,654,312\n",
      "    Largest  0-9:\t9,876,543,210\n",
      "    Smallest 1-9:\t123,456,798\n",
      "    Smallest 1-9:\t1,023,456,798\n",
      "3-divisible:\n",
      "    Largest  1-9:\t987,654,321\n",
      "    Largest  0-9:\t9,876,543,210\n",
      "    Smallest 1-9:\t123,456,789\n",
      "    Smallest 1-9:\t1,023,456,789\n",
      "4-divisible:\n",
      "    Largest  1-9:\t987,654,312\n",
      "    Largest  0-9:\t9,876,543,120\n",
      "    Smallest 1-9:\t123,457,896\n",
      "    Smallest 1-9:\t1,023,457,896\n",
      "5-divisible:\n",
      "    Largest  1-9:\t987,643,215\n",
      "    Largest  0-9:\t9,876,543,210\n",
      "    Smallest 1-9:\t123,467,895\n",
      "    Smallest 1-9:\t1,023,467,895\n",
      "6-divisible:\n",
      "    Largest  1-9:\t987,654,312\n",
      "    Largest  0-9:\t9,876,543,210\n",
      "    Smallest 1-9:\t123,456,798\n",
      "    Smallest 1-9:\t1,023,456,798\n",
      "7-divisible:\n",
      "    Largest  1-9:\t987,654,213\n",
      "    Largest  0-9:\t9,876,543,201\n",
      "    Smallest 1-9:\t123,456,879\n",
      "    Smallest 1-9:\t1,023,456,798\n",
      "8-divisible:\n",
      "    Largest  1-9:\t987,654,312\n",
      "    Largest  0-9:\t9,876,543,120\n",
      "    Smallest 1-9:\t123,457,896\n",
      "    Smallest 1-9:\t1,023,457,896\n",
      "9-divisible:\n",
      "    Largest  1-9:\t987,654,321\n",
      "    Largest  0-9:\t9,876,543,210\n",
      "    Smallest 1-9:\t123,456,789\n",
      "    Smallest 1-9:\t1,023,456,789\n",
      "10-divisible:\n",
      "    Largest  1-9:\t0\n",
      "    Largest  0-9:\t9,876,543,210\n",
      "    Smallest 1-9:\t0\n",
      "    Smallest 1-9:\t1,234,567,890\n",
      "11-divisible:\n",
      "    Largest  1-9:\t987,652,413\n",
      "    Largest  0-9:\t9,876,524,130\n",
      "    Smallest 1-9:\t123,475,869\n",
      "    Smallest 1-9:\t1,024,375,869\n",
      "12-divisible:\n",
      "    Largest  1-9:\t987,654,312\n",
      "    Largest  0-9:\t9,876,543,120\n",
      "    Smallest 1-9:\t123,457,896\n",
      "    Smallest 1-9:\t1,023,457,896\n",
      "13-divisible:\n",
      "    Largest  1-9:\t987,654,213\n",
      "    Largest  0-9:\t9,876,542,130\n",
      "    Smallest 1-9:\t123,456,879\n",
      "    Smallest 1-9:\t1,023,456,798\n",
      "14-divisible:\n",
      "    Largest  1-9:\t987,653,142\n",
      "    Largest  0-9:\t9,876,543,012\n",
      "    Smallest 1-9:\t123,457,698\n",
      "    Smallest 1-9:\t1,023,456,798\n",
      "15-divisible:\n",
      "    Largest  1-9:\t987,643,215\n",
      "    Largest  0-9:\t9,876,543,210\n",
      "    Smallest 1-9:\t123,467,895\n",
      "    Smallest 1-9:\t1,023,467,895\n",
      "16-divisible:\n",
      "    Largest  1-9:\t987,645,312\n",
      "    Largest  0-9:\t9,876,543,120\n",
      "    Smallest 1-9:\t123,457,968\n",
      "    Smallest 1-9:\t1,023,457,968\n"
     ]
    }
   ],
   "source": [
    "from collections import namedtuple\n",
    "\n",
    "sol = namedtuple('solution', ['smallest_1to9', 'largest_1to9', 'smallest_0to9', 'largest_0to9'])\n",
    "\n",
    "solutions = {}\n",
    "for n in range(2, 16+1):\n",
    "    pd19 = [a for a in pandigs_1to9 if a % n == 0]\n",
    "    pd09 = [a for a in pandigs_0to9 if a % n == 0]\n",
    "    n19 = min(pd19) if pd19 else 0\n",
    "    x19 = max(pd19) if pd19 else 0\n",
    "    n09 = min(pd09) if pd09 else 0\n",
    "    x09 = max(pd09) if pd09 else 0\n",
    "    solutions[n] = sol(n19, x19, n09, x09)\n",
    "    \n",
    "    \n",
    "def print_solution(d):\n",
    "    print(f\"\"\"{d}-divisible:\n",
    "    Largest  1-9:\\t{solutions[d].largest_1to9:,}\n",
    "    Largest  0-9:\\t{solutions[d].largest_0to9:,}\n",
    "    Smallest 1-9:\\t{solutions[d].smallest_1to9:,}\n",
    "    Smallest 1-9:\\t{solutions[d].smallest_0to9:,}\"\"\")\n",
    "\n",
    "    \n",
    "for d in solutions:\n",
    "    print_solution(d)"
   ]
  },
  {
   "cell_type": "markdown",
   "id": "fe0716c8",
   "metadata": {},
   "source": [
    "Done! Now let's use divisibility rules. We'll use our results above to verify our work.\n",
    "\n",
    "<hr/>\n",
    "\n",
    "## STEP 2: Divisibility Rules\n",
    "\n",
    "We can get a chart of divisibility rules from [Wikipedia](https://en.wikipedia.org/wiki/Divisibility_rule).\n",
    "\n",
    "### 1: First, making largest and smallest numbers out of collections of digits\n",
    "\n",
    "To make the largest number possible, order the digits from largest to smallest, only making exceptions to fit the number to the divisibility rules. No restrictions (divisible by 1):\n",
    "\n",
    "- 987,654,321\n",
    "- 9,876,543,210\n",
    "\n",
    "To make the smallest number possible, order the digits from smallest to largest, only making exceptions to fit the number to the divisiblity rules, and to keep the first digit from being 0. No restrictions (divisible by 1):\n",
    "\n",
    "- 123,456,789\n",
    "- 1,023,456,789"
   ]
  },
  {
   "cell_type": "markdown",
   "id": "e5539349",
   "metadata": {},
   "source": [
    "### 2: The last digit (in the ones place) must be even (divisible by 2)\n",
    "\n",
    "We only need to, at most, swap the last two digits in order to get an even digit in the ones place.\n",
    "\n",
    "Largest:\n",
    "\n",
    "- 987,654,3**12**\n",
    "- 9,876,543,210\n",
    "\n",
    "Smallest:\n",
    "\n",
    "- 123,456,7**98**\n",
    "- 1,023,456,7**98**\n"
   ]
  },
  {
   "cell_type": "code",
   "execution_count": 3,
   "id": "a612f3db",
   "metadata": {},
   "outputs": [
    {
     "name": "stdout",
     "output_type": "stream",
     "text": [
      "2-divisible:\n",
      "    Largest  1-9:\t987,654,312\n",
      "    Largest  0-9:\t9,876,543,210\n",
      "    Smallest 1-9:\t123,456,798\n",
      "    Smallest 1-9:\t1,023,456,798\n"
     ]
    }
   ],
   "source": [
    "print_solution(2)"
   ]
  },
  {
   "cell_type": "markdown",
   "id": "ac36b0d6",
   "metadata": {},
   "source": [
    "### 3: The sum of all digits must be divisible by 3\n",
    "\n",
    "`1 + 2 + 3 + 4 + 5 + 6 + 7 + 8 + 9 = 45` and `45 mod 3 = 0`, and `45 + 0 = 45`. Therefore, all our pandigital candidates are divisible by 3, and we can just use the largest and smallest numbers by digit ordering.\n",
    "\n",
    "Largest:\n",
    "\n",
    "- 987,654,321\n",
    "- 9,876,543,210\n",
    "\n",
    "Smallest:\n",
    "\n",
    "- 123,456,789\n",
    "- 1,023,456,789"
   ]
  },
  {
   "cell_type": "code",
   "execution_count": 4,
   "id": "51104071",
   "metadata": {},
   "outputs": [
    {
     "name": "stdout",
     "output_type": "stream",
     "text": [
      "3-divisible:\n",
      "    Largest  1-9:\t987,654,321\n",
      "    Largest  0-9:\t9,876,543,210\n",
      "    Smallest 1-9:\t123,456,789\n",
      "    Smallest 1-9:\t1,023,456,789\n"
     ]
    }
   ],
   "source": [
    "print_solution(3)"
   ]
  },
  {
   "cell_type": "markdown",
   "id": "a29b6a98",
   "metadata": {},
   "source": [
    "### 4: The last two digits must form a number divisible by 4\n",
    "\n",
    "\n",
    "We'll create a function to help with the \"sub-number divisibility\"-type rules. For some number of digits _d_ and divisor _n_, we want to find some number _a_ divisible by _n_, such that:\n",
    "\n",
    "- For the \"largest\" values, we want the collection of smallest digits possible, making the largest number possible\n",
    "- For the \"smallest\" values, we want the collection of largest digits possible, making the smallest number possible\n",
    "\n",
    "We'll find these by making comparable tuples containing:\n",
    "\n",
    "- Each sorting of digits, so we can determine collections of largest and smallest digits\n",
    "- The values of any number those digits can make in any order, negated to make our \"backwards\" comparisons work\n",
    "\n",
    "Then we'll return the un-negated numbers to use in construction our largest and smallest numbers."
   ]
  },
  {
   "cell_type": "code",
   "execution_count": 5,
   "id": "70c967af",
   "metadata": {},
   "outputs": [
    {
     "data": {
      "text/plain": [
       "['12', '20', '96', '96']"
      ]
     },
     "execution_count": 5,
     "metadata": {},
     "output_type": "execute_result"
    }
   ],
   "source": [
    "from itertools import combinations\n",
    "\n",
    "\n",
    "def subdivs(d, n):\n",
    "    sets_1to9 = set()\n",
    "    for digit_set in combinations(digit_cs_1to9, d):\n",
    "        digit_strs = [''.join(sorted(digit_set)), ''.join(sorted(digit_set, reverse=True))]\n",
    "        for value_str in permutations(digit_set):\n",
    "            i = int(''.join(value_str))\n",
    "            sets_1to9.add( (digit_strs[0], -i) )\n",
    "            sets_1to9.add( (digit_strs[1], -i) )\n",
    "    \n",
    "    sets_0to9 = set()\n",
    "    for digit_set in combinations(digit_cs_0to9, d):\n",
    "        digit_strs = [''.join(sorted(digit_set)), ''.join(sorted(digit_set, reverse=True))]\n",
    "        for value_str in permutations(digit_set):\n",
    "            i = int(''.join(value_str))\n",
    "            sets_0to9.add( (digit_strs[0], -i) )\n",
    "            sets_0to9.add( (digit_strs[1], -i) )\n",
    "    \n",
    "    smallest_1to9 = -min(p for p in sets_1to9 if p[1] % n == 0)[1]\n",
    "    smallest_0to9 = -min(p for p in sets_0to9 if p[1] % n == 0)[1]\n",
    "    largest_1to9 = -max(p for p in sets_1to9 if p[1] % n == 0)[1]\n",
    "    largest_0to9 = -max(p for p in sets_0to9 if p[1] % n == 0)[1]\n",
    "    \n",
    "    return [str(a).zfill(d) for a in [smallest_1to9, smallest_0to9, largest_1to9, largest_0to9]]\n",
    "\n",
    "            \n",
    "subdivs(2, 4)"
   ]
  },
  {
   "cell_type": "markdown",
   "id": "778d29be",
   "metadata": {},
   "source": [
    "12 and 20 are easily available for decreasing-digit order, but we have to reach for 96 in increasing order.\n",
    "\n",
    "Largest:\n",
    "\n",
    "- 987,654,3**12**\n",
    "- 9,876,543,**12**0\n",
    "\n",
    "Smallest:\n",
    "\n",
    "- 123,45**7,896**\n",
    "- 1,023,45**7,896**"
   ]
  },
  {
   "cell_type": "code",
   "execution_count": 6,
   "id": "b9c12cca",
   "metadata": {},
   "outputs": [
    {
     "name": "stdout",
     "output_type": "stream",
     "text": [
      "4-divisible:\n",
      "    Largest  1-9:\t987,654,312\n",
      "    Largest  0-9:\t9,876,543,120\n",
      "    Smallest 1-9:\t123,457,896\n",
      "    Smallest 1-9:\t1,023,457,896\n"
     ]
    }
   ],
   "source": [
    "print_solution(4)"
   ]
  },
  {
   "cell_type": "markdown",
   "id": "b8d3e975",
   "metadata": {},
   "source": [
    "### 5: The last digit must be 5 or 0\n",
    "\n",
    "This merely requires that we shift one digit to the ones place.\n",
    "\n",
    "Largest:\n",
    "\n",
    "- 987,6**43,215**\n",
    "- 9,876,543,210\n",
    "\n",
    "Smallest:\n",
    "\n",
    "- 123,4**67,895**\n",
    "- 1,023,4**67,895**"
   ]
  },
  {
   "cell_type": "code",
   "execution_count": 7,
   "id": "490a8d78",
   "metadata": {},
   "outputs": [
    {
     "name": "stdout",
     "output_type": "stream",
     "text": [
      "5-divisible:\n",
      "    Largest  1-9:\t987,643,215\n",
      "    Largest  0-9:\t9,876,543,210\n",
      "    Smallest 1-9:\t123,467,895\n",
      "    Smallest 1-9:\t1,023,467,895\n"
     ]
    }
   ],
   "source": [
    "print_solution(5)"
   ]
  },
  {
   "cell_type": "markdown",
   "id": "804fdc7e",
   "metadata": {},
   "source": [
    "### 6: Must be divisible by 2 and 3\n",
    "\n",
    "Since all candidates are divisible by 3, these are the same answers as for 2.\n",
    "\n",
    "Largest:\n",
    "\n",
    "- 987,654,3**12**\n",
    "- 9,876,543,210\n",
    "\n",
    "Smallest:\n",
    "\n",
    "- 123,456,7**98**\n",
    "- 1,023,456,7**98**"
   ]
  },
  {
   "cell_type": "code",
   "execution_count": 8,
   "id": "a896bf9c",
   "metadata": {},
   "outputs": [
    {
     "name": "stdout",
     "output_type": "stream",
     "text": [
      "6-divisible:\n",
      "    Largest  1-9:\t987,654,312\n",
      "    Largest  0-9:\t9,876,543,210\n",
      "    Smallest 1-9:\t123,456,798\n",
      "    Smallest 1-9:\t1,023,456,798\n"
     ]
    }
   ],
   "source": [
    "print_solution(6)"
   ]
  },
  {
   "cell_type": "markdown",
   "id": "5e720c57",
   "metadata": {},
   "source": [
    "### 7: Alternating sums of 3-digit blocks (from right to left) must yield a multiple of 7\n",
    "\n",
    "Divisibility by 7 is more complicated than any of the previous numbers, and there are several tricks to choose from. This one might be fun to write a search function for.\n",
    "\n",
    "Let's try some examples, keeping in mind that `(a + b) mod n = a mod n + b mod n` to keep the arithmetic simpler:\n",
    "\n",
    "- `9,876,543,210 mod 7 = (210 - 543 + 876 - 9) mod 7 = (0 - 4 + 1 - 9) mod 7 = -12 mod 7 = 2`, so _not divisble_ by 7\n",
    "- `9,876,543,201 mod 7 = (201 - 543 + 876 - 9) mod 7 = (5 - 4 + 1 - 9) mod 7 = -7 mod 7 = 0`, so _divisible_ by 7.\n",
    "\n",
    "We'll recursively test 3-digit blocks in order of favorability until we are able to build the best possible number divisible by 7. We'll have to build our number from left to right, since the most influential blocks are furthest left.\n",
    "\n",
    "_NB: This code could be generalized to work for multiple divisibility rules, but we're not doing that yet._"
   ]
  },
  {
   "cell_type": "code",
   "execution_count": 9,
   "id": "802ba275",
   "metadata": {},
   "outputs": [
    {
     "data": {
      "text/plain": [
       "('987,654,213', '9,876,543,201', '123,456,879', '1,023,456,798')"
      ]
     },
     "execution_count": 9,
     "metadata": {},
     "output_type": "execute_result"
    }
   ],
   "source": [
    "from functools import lru_cache\n",
    "from itertools import islice\n",
    "\n",
    "digit_set_1to9 = frozenset(c for c in '123456789')\n",
    "digit_set_0to9 = frozenset(c for c in '0123456789')\n",
    "\n",
    "\n",
    "@lru_cache() # since we will call this multiple times with the same arguments, reuse results\n",
    "def digit_subsets(digit_set, subset_size):\n",
    "    subset = set()\n",
    "    for digits in permutations(digit_set, subset_size):\n",
    "        value_str = ''.join(digits)\n",
    "        subset.add(value_str)\n",
    "    return frozenset(subset)\n",
    "\n",
    "\n",
    "def largest_7(digit_set):\n",
    "    return list(islice(_search_7(True, digit_set), 1))[0] # just return the first valid value\n",
    "\n",
    "\n",
    "def smallest_7(digit_set):\n",
    "    return list(islice(_search_7(False, digit_set), 1))[0]\n",
    "\n",
    "\n",
    "def _search_7(largest, digit_set, incoming_remainder=0, incoming_number = \"\"):\n",
    "    \n",
    "    # how big is this block?\n",
    "    if len(digit_set) % 3 == 0:\n",
    "        block_size = 3\n",
    "    else:\n",
    "        block_size = len(digit_set) % 3\n",
    "          \n",
    "    # is this a negative term? even-numbered terms, counted right to left, are.\n",
    "    block_number = (len(digit_set) - block_size) / 3 + 1\n",
    "    negative_term = block_number % 2 == 0\n",
    "    \n",
    "    for value_str in sorted(digit_subsets(digit_set, block_size), reverse=largest):\n",
    "        if incoming_number == \"\" and value_str[0] == '0': # leading 0s are not allowed\n",
    "            continue\n",
    "        \n",
    "        if incoming_number == \"\":\n",
    "            new_number = value_str\n",
    "        else:\n",
    "            new_number = incoming_number + ',' + value_str\n",
    "        value = int(value_str)\n",
    "        remainder = value % 7\n",
    "        \n",
    "        if negative_term:\n",
    "            new_remainder = (incoming_remainder - remainder) % 7\n",
    "        else:\n",
    "            new_remainder = (incoming_remainder + remainder) % 7\n",
    "        \n",
    "        rem_digits = digit_set - set(c for c in value_str)\n",
    "        \n",
    "        if len(rem_digits) == 0: # this is the final term\n",
    "            if new_remainder == 0: # qualifying number\n",
    "                yield new_number\n",
    "        else: # move on to next block\n",
    "            for result in _search_7(largest, rem_digits, new_remainder, new_number):\n",
    "                yield result\n",
    "                \n",
    "        \n",
    "largest_7(digit_set_1to9), largest_7(digit_set_0to9), smallest_7(digit_set_1to9), smallest_7(digit_set_0to9)"
   ]
  },
  {
   "cell_type": "markdown",
   "id": "dd07200d",
   "metadata": {},
   "source": [
    "Largest:\n",
    "- 987,654,**213**\n",
    "- 9,876,543,2**01**\n",
    "\n",
    "Smallest:\n",
    "- 123,456,**879**\n",
    "- 1,023,456,7**98**"
   ]
  },
  {
   "cell_type": "code",
   "execution_count": 10,
   "id": "7ff5ef66",
   "metadata": {},
   "outputs": [
    {
     "name": "stdout",
     "output_type": "stream",
     "text": [
      "7-divisible:\n",
      "    Largest  1-9:\t987,654,213\n",
      "    Largest  0-9:\t9,876,543,201\n",
      "    Smallest 1-9:\t123,456,879\n",
      "    Smallest 1-9:\t1,023,456,798\n"
     ]
    }
   ],
   "source": [
    "print_solution(7)"
   ]
  },
  {
   "cell_type": "markdown",
   "id": "df854ed0",
   "metadata": {},
   "source": [
    "### 8: The last 3 digits must form a number divisible by 8\n",
    "\n",
    "This works because `1,000 mod 8 = 0`, so we only care about the places under the 1,000's place. "
   ]
  },
  {
   "cell_type": "code",
   "execution_count": 11,
   "id": "90d15ac2",
   "metadata": {},
   "outputs": [
    {
     "data": {
      "text/plain": [
       "['312', '120', '896', '896']"
      ]
     },
     "execution_count": 11,
     "metadata": {},
     "output_type": "execute_result"
    }
   ],
   "source": [
    "subdivs(3, 8)"
   ]
  },
  {
   "cell_type": "markdown",
   "id": "a6396503",
   "metadata": {},
   "source": [
    "The smallest 8-divisible 3-digit numbers available are 312 and 120; the largest available is 896.\n",
    "\n",
    "Largest:\n",
    "- 987,654,3**12**\n",
    "- 9,876,543,**120**\n",
    "\n",
    "Smallest:\n",
    "- 123,45**7,896**\n",
    "- 1,023,45**7,896**"
   ]
  },
  {
   "cell_type": "code",
   "execution_count": 12,
   "id": "111c2199",
   "metadata": {},
   "outputs": [
    {
     "name": "stdout",
     "output_type": "stream",
     "text": [
      "8-divisible:\n",
      "    Largest  1-9:\t987,654,312\n",
      "    Largest  0-9:\t9,876,543,120\n",
      "    Smallest 1-9:\t123,457,896\n",
      "    Smallest 1-9:\t1,023,457,896\n"
     ]
    }
   ],
   "source": [
    "print_solution(8)"
   ]
  },
  {
   "cell_type": "markdown",
   "id": "08238a3e",
   "metadata": {},
   "source": [
    "### 9: The sum of the digits must be divisible by 9\n",
    "\n",
    "`1 + 2 + 3 + 4 + 5 + 6 + 7 + 8 + 9 = 45` and `45 mod 9 = 0`, and `45 + 0 = 45`. Therefore, all our pandigital candidates are divisible by 9, and we can just use the largest and smallest numbers by digit ordering, as we did for 3.\n",
    "\n",
    "Largest:\n",
    "\n",
    "- 987,654,321\n",
    "- 9,876,543,210\n",
    "\n",
    "Smallest:\n",
    "\n",
    "- 123,456,789\n",
    "- 1,023,456,789"
   ]
  },
  {
   "cell_type": "code",
   "execution_count": 13,
   "id": "ce8ea532",
   "metadata": {},
   "outputs": [
    {
     "name": "stdout",
     "output_type": "stream",
     "text": [
      "9-divisible:\n",
      "    Largest  1-9:\t987,654,321\n",
      "    Largest  0-9:\t9,876,543,210\n",
      "    Smallest 1-9:\t123,456,789\n",
      "    Smallest 1-9:\t1,023,456,789\n"
     ]
    }
   ],
   "source": [
    "print_solution(9)"
   ]
  },
  {
   "cell_type": "markdown",
   "id": "cb6e86c3",
   "metadata": {},
   "source": [
    "### 10: The last digit must be 0\n",
    "\n",
    "There are no 1-9 pandigital numbers that end in 0, since they don't contain 0.\n",
    "\n",
    "Largest:\n",
    "- _none exists_\n",
    "- 9,876,543,210\n",
    "\n",
    "Smallest:\n",
    "- _none exists_\n",
    "- 1,**234,567,890**"
   ]
  },
  {
   "cell_type": "code",
   "execution_count": 14,
   "id": "c5438b44",
   "metadata": {},
   "outputs": [
    {
     "name": "stdout",
     "output_type": "stream",
     "text": [
      "10-divisible:\n",
      "    Largest  1-9:\t0\n",
      "    Largest  0-9:\t9,876,543,210\n",
      "    Smallest 1-9:\t0\n",
      "    Smallest 1-9:\t1,234,567,890\n"
     ]
    }
   ],
   "source": [
    "print_solution(10) # our program indicates \"no answer exists\" as \"0\""
   ]
  },
  {
   "cell_type": "markdown",
   "id": "f6c3398a",
   "metadata": {},
   "source": [
    "### 11: Sums of 2-digit blocks must yield a multiple of 11\n",
    "\n",
    "Just as with 7, there are multiple rules for 11. This one looks like another fun recursive search opportunity.\n",
    "\n",
    "- `9,876,543,210 mod 11 = (98 + 76 + 54 + 32 + 10) mod 11 = (10 + 10 + 10 + 10 + 10) mod 11 = 50 mod 7 = 6`, so _not divisble_ by 11\n",
    "- `9,876,524,130 mod 11 = (98 + 76 + 52 + 41 + 30) mod 11 = (10 + 10 + 8 + 8 + 8) mod 11 = 44 mod 11 = 0`, so _divisible_ by 11.\n",
    "\n",
    "We'll modify our code from 7 to add up blocks of 2 numbers and test for 11-divisibility.\n",
    "\n",
    "_NB: This is one rule we could use a generalized form of the solution from 7 to solve, instead of copy-pasted and modified code._"
   ]
  },
  {
   "cell_type": "code",
   "execution_count": 15,
   "id": "39cec220",
   "metadata": {},
   "outputs": [
    {
     "data": {
      "text/plain": [
       "('987,652,413', '9,876,524,130', '123,475,869', '1,024,375,869')"
      ]
     },
     "execution_count": 15,
     "metadata": {},
     "output_type": "execute_result"
    }
   ],
   "source": [
    "def largest_11(digit_set):\n",
    "    for result in _search_11(True, digit_set):\n",
    "        return f\"{int(result):,}\"\n",
    "\n",
    "\n",
    "def smallest_11(digit_set):\n",
    "    for result in _search_11(False, digit_set):\n",
    "        return f\"{int(result):,}\"\n",
    "\n",
    "\n",
    "def _search_11(largest, digit_set, incoming_remainder=0, incoming_number = \"\"):\n",
    "    \n",
    "    # how big is this block?\n",
    "    if len(digit_set) % 2 == 0:\n",
    "        block_size = 2\n",
    "    else:\n",
    "        block_size = len(digit_set) % 2\n",
    "    \n",
    "    for value_str in sorted(digit_subsets(digit_set, block_size), reverse=largest):\n",
    "        if incoming_number == \"\" and value_str[0] == '0': # leading 0s are not allowed\n",
    "            continue\n",
    "        \n",
    "        if incoming_number == \"\":\n",
    "            new_number = value_str\n",
    "        else:\n",
    "            new_number = incoming_number + value_str\n",
    "        value = int(value_str)\n",
    "        remainder = value % 11\n",
    "        \n",
    "        new_remainder = (incoming_remainder + remainder) % 11\n",
    "        \n",
    "        rem_digits = digit_set - set(c for c in value_str)\n",
    "        \n",
    "        if len(rem_digits) == 0: # this is the final term\n",
    "            if new_remainder == 0: # qualifying number\n",
    "                yield new_number\n",
    "        else: # move on to next block\n",
    "            for result in _search_11(largest, rem_digits, new_remainder, new_number):\n",
    "                yield result\n",
    "                \n",
    "        \n",
    "largest_11(digit_set_1to9), largest_11(digit_set_0to9), smallest_11(digit_set_1to9), smallest_11(digit_set_0to9)"
   ]
  },
  {
   "cell_type": "markdown",
   "id": "f248c973",
   "metadata": {},
   "source": [
    "Largest:\n",
    "- 987,65**2,413**\n",
    "- 9,876,5**24,13**0\n",
    "\n",
    "Smallest:\n",
    "- 123,4**75,86**9\n",
    "- 1,02**4,375,86**9"
   ]
  },
  {
   "cell_type": "code",
   "execution_count": 16,
   "id": "cb59a6ad",
   "metadata": {},
   "outputs": [
    {
     "name": "stdout",
     "output_type": "stream",
     "text": [
      "11-divisible:\n",
      "    Largest  1-9:\t987,652,413\n",
      "    Largest  0-9:\t9,876,524,130\n",
      "    Smallest 1-9:\t123,475,869\n",
      "    Smallest 1-9:\t1,024,375,869\n"
     ]
    }
   ],
   "source": [
    "print_solution(11)"
   ]
  },
  {
   "cell_type": "markdown",
   "id": "eab194d5",
   "metadata": {},
   "source": [
    "### 12: Must be divisible by 3 and 4\n",
    "\n",
    "Since all candidates are divisible by 3, we use the same answers as for 4.\n",
    "\n",
    "Largest:\n",
    "\n",
    "- 987,654,3**12**\n",
    "- 9,876,543,**12**0\n",
    "\n",
    "Smallest:\n",
    "\n",
    "- 123,45**7,896**\n",
    "- 1,023,45**7,896**"
   ]
  },
  {
   "cell_type": "code",
   "execution_count": 17,
   "id": "088e0caa",
   "metadata": {},
   "outputs": [
    {
     "name": "stdout",
     "output_type": "stream",
     "text": [
      "12-divisible:\n",
      "    Largest  1-9:\t987,654,312\n",
      "    Largest  0-9:\t9,876,543,120\n",
      "    Smallest 1-9:\t123,457,896\n",
      "    Smallest 1-9:\t1,023,457,896\n"
     ]
    }
   ],
   "source": [
    "print_solution(12)"
   ]
  },
  {
   "cell_type": "markdown",
   "id": "b56a77af",
   "metadata": {},
   "source": [
    "### 13: Alternating sums of 3-digit blocks (from right to left) must yield a multiple of 13\n",
    "\n",
    "Just as with 7 and 11, there are multiple rules to choose from. This rule is almost identical to the rule we chose for 7.\n",
    "\n",
    "- `9,876,543,210 mod 13 = (210 - 543 + 876 - 9) mod 13 = (2 - 10 + 5 - 9) mod 13 = -12 mod 13 = 2`, so _not divisble_ by 13\n",
    "- `9,876,542,130 mod 13 = (130 - 542 + 876 - 9) mod 13 = (0 - 9 + 5 - 9) mod 13 = -13 mod 13 = 0`, so _divisible_ by `13`.\n",
    "\n",
    "\n",
    "We'll adapt our 7 code accordingly.\n",
    "\n",
    "_NB: This is another rule we could use a generalized form of the solution from 7 to solve, instead of copy-pasted and modified code._"
   ]
  },
  {
   "cell_type": "code",
   "execution_count": 18,
   "id": "f4244eec",
   "metadata": {},
   "outputs": [
    {
     "data": {
      "text/plain": [
       "('987,654,213', '9,876,542,130', '123,456,879', '1,023,456,798')"
      ]
     },
     "execution_count": 18,
     "metadata": {},
     "output_type": "execute_result"
    }
   ],
   "source": [
    "def largest_13(digit_set):\n",
    "    return list(islice(_search_13(True, digit_set), 1))[0] # just return the first valid value\n",
    "\n",
    "\n",
    "def smallest_13(digit_set):\n",
    "    return list(islice(_search_13(False, digit_set), 1))[0]\n",
    "\n",
    "\n",
    "def _search_13(largest, digit_set, incoming_remainder=0, incoming_number = \"\"):\n",
    "    \n",
    "    # how big is this block?\n",
    "    if len(digit_set) % 3 == 0:\n",
    "        block_size = 3\n",
    "    else:\n",
    "        block_size = len(digit_set) % 3\n",
    "          \n",
    "    # is this a negative term? even-numbered terms, counted right to left, are.\n",
    "    block_number = (len(digit_set) - block_size) / 3 + 1\n",
    "    negative_term = block_number % 2 == 0\n",
    "    \n",
    "    for value_str in sorted(digit_subsets(digit_set, block_size), reverse=largest):\n",
    "        if incoming_number == \"\" and value_str[0] == '0': # leading 0s are not allowed\n",
    "            continue\n",
    "        \n",
    "        if incoming_number == \"\":\n",
    "            new_number = value_str\n",
    "        else:\n",
    "            new_number = incoming_number + ',' + value_str\n",
    "        value = int(value_str)\n",
    "        remainder = value % 13\n",
    "        \n",
    "        if negative_term:\n",
    "            new_remainder = (incoming_remainder - remainder) % 13\n",
    "        else:\n",
    "            new_remainder = (incoming_remainder + remainder) % 13\n",
    "        \n",
    "        rem_digits = digit_set - set(c for c in value_str)\n",
    "        \n",
    "        if len(rem_digits) == 0: # this is the final term\n",
    "            if new_remainder == 0: # qualifying number\n",
    "                yield new_number\n",
    "        else: # move on to next block\n",
    "            for result in _search_13(largest, rem_digits, new_remainder, new_number):\n",
    "                yield result\n",
    "                \n",
    "        \n",
    "largest_13(digit_set_1to9), largest_13(digit_set_0to9), smallest_13(digit_set_1to9), smallest_13(digit_set_0to9)"
   ]
  },
  {
   "cell_type": "markdown",
   "id": "b2b0e5ab",
   "metadata": {},
   "source": [
    "Largest:\n",
    "- 987,654,**213**\n",
    "- 9,876,54**2,13**0\n",
    "\n",
    "Smallest:\n",
    "- 123,456,**87**9\n",
    "- 1,023,456,7**98**"
   ]
  },
  {
   "cell_type": "code",
   "execution_count": 19,
   "id": "c9c723ae",
   "metadata": {},
   "outputs": [
    {
     "name": "stdout",
     "output_type": "stream",
     "text": [
      "13-divisible:\n",
      "    Largest  1-9:\t987,654,213\n",
      "    Largest  0-9:\t9,876,542,130\n",
      "    Smallest 1-9:\t123,456,879\n",
      "    Smallest 1-9:\t1,023,456,798\n"
     ]
    }
   ],
   "source": [
    "print_solution(13)"
   ]
  },
  {
   "cell_type": "markdown",
   "id": "804b9e78",
   "metadata": {},
   "source": [
    "### 14: Must be divisible by 2 and 7\n",
    "\n",
    "We will use our code for finding numbers divisible by 7 and filter for even results."
   ]
  },
  {
   "cell_type": "code",
   "execution_count": 20,
   "id": "4dcdb5ba",
   "metadata": {},
   "outputs": [
    {
     "data": {
      "text/plain": [
       "('987,653,142', '9,876,543,012', '123,457,698', '1,023,456,798')"
      ]
     },
     "execution_count": 20,
     "metadata": {},
     "output_type": "execute_result"
    }
   ],
   "source": [
    "def largest_14(digit_set):\n",
    "    for v in _search_7(True, digit_set):\n",
    "        if int(v.replace(',', '')) % 2 == 0:\n",
    "            return v\n",
    "\n",
    "def smallest_14(digit_set):\n",
    "    for v in _search_7(False, digit_set):\n",
    "        if int(v.replace(',', '')) % 2 == 0:\n",
    "            return v\n",
    "\n",
    "largest_14(digit_set_1to9), largest_14(digit_set_0to9), smallest_14(digit_set_1to9), smallest_14(digit_set_0to9)"
   ]
  },
  {
   "cell_type": "markdown",
   "id": "189b1aeb",
   "metadata": {},
   "source": [
    "Largest:\n",
    "- 987,65**3,142**\n",
    "- 9,876,543,**012**\n",
    "\n",
    "Smallest:\n",
    "- 123,45**7,698**\n",
    "- 1,023,456,7**98**"
   ]
  },
  {
   "cell_type": "code",
   "execution_count": 21,
   "id": "7c996f30",
   "metadata": {},
   "outputs": [
    {
     "name": "stdout",
     "output_type": "stream",
     "text": [
      "14-divisible:\n",
      "    Largest  1-9:\t987,653,142\n",
      "    Largest  0-9:\t9,876,543,012\n",
      "    Smallest 1-9:\t123,457,698\n",
      "    Smallest 1-9:\t1,023,456,798\n"
     ]
    }
   ],
   "source": [
    "print_solution(14)"
   ]
  },
  {
   "cell_type": "markdown",
   "id": "d27e22e8",
   "metadata": {},
   "source": [
    "### 15: Must be divisible by 3 and 5\n",
    "\n",
    "Since all candidates are divisible by 3, the last digit must be 5 or 0.\n",
    "\n",
    "Largest:\n",
    "\n",
    "- 987,6**43,215**\n",
    "- 9,876,543,210\n",
    "\n",
    "Smallest:\n",
    "\n",
    "- 123,4**67,895**\n",
    "- 1,023,4**67,895**"
   ]
  },
  {
   "cell_type": "code",
   "execution_count": 22,
   "id": "7716ab7b",
   "metadata": {},
   "outputs": [
    {
     "name": "stdout",
     "output_type": "stream",
     "text": [
      "15-divisible:\n",
      "    Largest  1-9:\t987,643,215\n",
      "    Largest  0-9:\t9,876,543,210\n",
      "    Smallest 1-9:\t123,467,895\n",
      "    Smallest 1-9:\t1,023,467,895\n"
     ]
    }
   ],
   "source": [
    "print_solution(15)"
   ]
  },
  {
   "cell_type": "markdown",
   "id": "7262e220",
   "metadata": {},
   "source": [
    "### 16: The last 4 digits must be divisible by 16\n"
   ]
  },
  {
   "cell_type": "code",
   "execution_count": 23,
   "id": "3e2d13ca",
   "metadata": {},
   "outputs": [
    {
     "data": {
      "text/plain": [
       "['5312', '3120', '7968', '7968']"
      ]
     },
     "execution_count": 23,
     "metadata": {},
     "output_type": "execute_result"
    }
   ],
   "source": [
    "subdivs(4, 16)"
   ]
  },
  {
   "cell_type": "markdown",
   "id": "c7927a8c",
   "metadata": {},
   "source": [
    "The smallest 4-digit numbers divisible by 16 are 5,312 and 3,120. The largest is 7,968.\n",
    "\n",
    "Largest:\n",
    "- 987,6**45,312**\n",
    "- 9,876,543,**12**0\n",
    "\n",
    "Smallest:\n",
    "- 123,45**7,968**\n",
    "- 1,023,45**7,968**"
   ]
  },
  {
   "cell_type": "code",
   "execution_count": 24,
   "id": "d98f68ad",
   "metadata": {},
   "outputs": [
    {
     "name": "stdout",
     "output_type": "stream",
     "text": [
      "16-divisible:\n",
      "    Largest  1-9:\t987,645,312\n",
      "    Largest  0-9:\t9,876,543,120\n",
      "    Smallest 1-9:\t123,457,968\n",
      "    Smallest 1-9:\t1,023,457,968\n"
     ]
    }
   ],
   "source": [
    "print_solution(16)"
   ]
  },
  {
   "cell_type": "markdown",
   "id": "9570b36c",
   "metadata": {},
   "source": [
    "<hr/>\n",
    "\n",
    "## STEP 3: Analysis\n",
    "\n",
    "Since we showed in STEP 1 that our computer is perfectly capable of doing divisibilty calculations on large numbers, using a very small amount of code, we might wonder if there's a benefit to the more complicated methods.\n",
    "\n",
    "As an example, let's look at finding the solutions for divisibility by 13, and determine how many candidates we have to evaluate using an addition-by-blocks method and a \"let the computer do the work\" method. We'll modify code from above.\n",
    "\n",
    "### A. Brute Force\n",
    "\n",
    "Above, we used very naive code to create all the pandigital numbers and sieve them through divisibility tests. As a result, it took over 1.6 seconds to generate all of the numbers, and several seconds to sieve all of them.\n",
    "\n",
    "We're going to be _slightly_ smarter here. We will take advantage of the ordering of results delivered by `permutations`. If we deliver our digits in increasing order, the results will count up from that smallest number. If we deliver them in decreasing order, then they will count down from the largest number. In this way, the first 13-divisible number is the largest (or smallest) number in the set. (We're also going not going to count any numbers that start with a 0 as candidates.)"
   ]
  },
  {
   "cell_type": "code",
   "execution_count": 25,
   "id": "d2b4e477",
   "metadata": {},
   "outputs": [
    {
     "name": "stdout",
     "output_type": "stream",
     "text": [
      "987,654,213 is divisible by 13. (Candidate # 4)\n",
      "Wall time: 0 ns\n",
      "9,876,542,130 is divisible by 13. (Candidate # 9)\n",
      "Wall time: 0 ns\n",
      "123,456,879 is divisible by 13. (Candidate # 3)\n",
      "Wall time: 0 ns\n",
      "1,023,456,798 is divisible by 13. (Candidate # 2)\n",
      "Wall time: 42.9 ms\n",
      "-------------------------\n",
      "13-divisible:\n",
      "    Largest  1-9:\t987,654,213\n",
      "    Largest  0-9:\t9,876,542,130\n",
      "    Smallest 1-9:\t123,456,879\n",
      "    Smallest 1-9:\t1,023,456,798\n"
     ]
    }
   ],
   "source": [
    "from itertools import permutations\n",
    "\n",
    "def bf_first_divisible_by(n, digit_chars):\n",
    "    for i, digit_order in enumerate(o for o in permutations(digit_chars) if o[0] != '0'):\n",
    "        a = int(''.join(digit_order))\n",
    "        if a % n == 0:\n",
    "            print(f\"{a:,} is divisible by {n:,}. (Candidate # {i+1:,})\")\n",
    "            return a\n",
    "        \n",
    "        \n",
    "%time bf_first_divisible_by(13, '987654321')\n",
    "%time bf_first_divisible_by(13, '9876543210')\n",
    "%time bf_first_divisible_by(13, '123456789')\n",
    "%time bf_first_divisible_by(13, '0123456789')\n",
    "print('-'*25)\n",
    "print_solution(13)"
   ]
  },
  {
   "cell_type": "markdown",
   "id": "e268588b",
   "metadata": {},
   "source": [
    "That went incredibly quickly. The largest number of candidates checked was 9, and the only part of the process that took over 1 ms was skipping all the candidates with a '0' in the leftmost place. We could eliminate that delay by sending in our digits in a more intelligent ordering so the permutations start with the smallest actually viable number."
   ]
  },
  {
   "cell_type": "code",
   "execution_count": 26,
   "id": "59ff17ff",
   "metadata": {},
   "outputs": [
    {
     "name": "stdout",
     "output_type": "stream",
     "text": [
      "1,023,456,798 is divisible by 13. (Candidate # 2)\n",
      "Wall time: 0 ns\n"
     ]
    },
    {
     "data": {
      "text/plain": [
       "1023456798"
      ]
     },
     "execution_count": 26,
     "metadata": {},
     "output_type": "execute_result"
    }
   ],
   "source": [
    "%time bf_first_divisible_by(13, '1023456789')"
   ]
  },
  {
   "cell_type": "markdown",
   "id": "002f6a85",
   "metadata": {},
   "source": [
    "It seems unlikely that we'll be technically faster using the block addition method.\n",
    "\n",
    "### B. Block Method\n",
    "\n",
    "We're going to modify our code from above to (1) be reusable for different divisors, block sizes, and alternating vs non-alternating block addition, and (2) keep track of the number of candidates evaluated."
   ]
  },
  {
   "cell_type": "code",
   "execution_count": 27,
   "id": "383496b4",
   "metadata": {},
   "outputs": [
    {
     "data": {
      "text/plain": [
       "('987,654,213', '9,876,542,130', '123,456,879', '1,023,456,798')"
      ]
     },
     "execution_count": 27,
     "metadata": {},
     "output_type": "execute_result"
    }
   ],
   "source": [
    "from functools import lru_cache\n",
    "from itertools import islice\n",
    "\n",
    "digit_set_1to9 = frozenset(c for c in '123456789')\n",
    "digit_set_0to9 = frozenset(c for c in '0123456789')\n",
    "\n",
    "\n",
    "@lru_cache() # since we will call this multiple times with the same arguments, reuse results\n",
    "def digit_subsets(digit_set, subset_size):\n",
    "    subset = set()\n",
    "    for digits in permutations(digit_set, subset_size):\n",
    "        value_str = ''.join(digits)\n",
    "        subset.add(value_str)\n",
    "    return frozenset(subset)\n",
    "\n",
    "def largest_13(digit_set):\n",
    "    return list(islice(_search_13(True, digit_set), 1))[0] # just return the first valid value\n",
    "\n",
    "\n",
    "def smallest_13(digit_set):\n",
    "    return list(islice(_search_13(False, digit_set), 1))[0]\n",
    "\n",
    "\n",
    "def _search_13(largest, digit_set, incoming_remainder=0, incoming_number = \"\"):\n",
    "    \n",
    "    # how big is this block?\n",
    "    if len(digit_set) % 3 == 0:\n",
    "        block_size = 3\n",
    "    else:\n",
    "        block_size = len(digit_set) % 3\n",
    "          \n",
    "    # is this a negative term? even-numbered terms, counted right to left, are.\n",
    "    block_number = (len(digit_set) - block_size) / 3 + 1\n",
    "    negative_term = block_number % 2 == 0\n",
    "    \n",
    "    for value_str in sorted(digit_subsets(digit_set, block_size), reverse=largest):\n",
    "        if incoming_number == \"\" and value_str[0] == '0': # leading 0s are not allowed\n",
    "            continue\n",
    "        \n",
    "        if incoming_number == \"\":\n",
    "            new_number = value_str\n",
    "        else:\n",
    "            new_number = incoming_number + ',' + value_str\n",
    "        value = int(value_str)\n",
    "        remainder = value % 13\n",
    "        \n",
    "        if negative_term:\n",
    "            new_remainder = (incoming_remainder - remainder) % 13\n",
    "        else:\n",
    "            new_remainder = (incoming_remainder + remainder) % 13\n",
    "        \n",
    "        rem_digits = digit_set - set(c for c in value_str)\n",
    "        \n",
    "        if len(rem_digits) == 0: # this is the final term\n",
    "            if new_remainder == 0: # qualifying number\n",
    "                yield new_number\n",
    "        else: # move on to next block\n",
    "            for result in _search_13(largest, rem_digits, new_remainder, new_number):\n",
    "                yield result\n",
    "                \n",
    "        \n",
    "largest_13(digit_set_1to9), largest_13(digit_set_0to9), smallest_13(digit_set_1to9), smallest_13(digit_set_0to9)"
   ]
  },
  {
   "cell_type": "code",
   "execution_count": 28,
   "id": "9ad0bd26",
   "metadata": {},
   "outputs": [
    {
     "name": "stdout",
     "output_type": "stream",
     "text": [
      "987,654,213 is divisible by 13. (Candidate # 4)\n",
      "Wall time: 998 µs\n",
      "9,876,542,130 is divisible by 13. (Candidate # 9)\n",
      "Wall time: 999 µs\n",
      "123,456,879 is divisible by 13. (Candidate # 3)\n",
      "Wall time: 0 ns\n",
      "1,023,456,798 is divisible by 13. (Candidate # 2)\n",
      "Wall time: 0 ns\n",
      "-------------------------\n",
      "13-divisible:\n",
      "    Largest  1-9:\t987,654,213\n",
      "    Largest  0-9:\t9,876,542,130\n",
      "    Smallest 1-9:\t123,456,879\n",
      "    Smallest 1-9:\t1,023,456,798\n"
     ]
    }
   ],
   "source": [
    "from functools import lru_cache\n",
    "from itertools import islice\n",
    "\n",
    "\n",
    "@lru_cache() # since we will call this multiple times with the same arguments, reuse results\n",
    "def digit_subsets(digit_set, subset_size):\n",
    "    subset = set()\n",
    "    for digits in permutations(digit_set, subset_size):\n",
    "        value_str = ''.join(digits)\n",
    "        subset.add(value_str)\n",
    "    return frozenset(subset)\n",
    "\n",
    "\n",
    "def ba_first_divisible_by(n, digit_chars, largest, rule_block_size, alternating_addition):\n",
    "    global candidate_count\n",
    "    candidate_count = 0\n",
    "    \n",
    "    digit_set = frozenset(c for c in digit_chars)\n",
    "    \n",
    "    return candidate_count, list(\n",
    "        islice(\n",
    "            ba_search_divisible_by(n, digit_set, largest, rule_block_size, alternating_addition), 1))[0]\n",
    "\n",
    "\n",
    "def ba_search_divisible_by(n, digit_set, largest,\n",
    "                           rule_block_size, alternating_addition,\n",
    "                           incoming_remainder = 0, incoming_number = \"\"):\n",
    "    global candidate_count\n",
    "    \n",
    "    # how big is this block?\n",
    "    if len(digit_set) % rule_block_size == 0:\n",
    "        block_size = rule_block_size\n",
    "    else:\n",
    "        block_size = len(digit_set) % rule_block_size\n",
    "        \n",
    "    # determine if this is a negative term, if alternating addition is specified\n",
    "    if alternating_addition:\n",
    "        block_number = (len(digit_set) - block_size) / rule_block_size + 1\n",
    "        negative_term = block_number % 2 == 0\n",
    "    else:\n",
    "        negative_term = False\n",
    "        \n",
    "    for value_str in sorted(digit_subsets(digit_set, block_size), reverse=largest):\n",
    "        if incoming_number == \"\" and value_str[0] == '0': # leading 0s are not allowed\n",
    "            continue\n",
    "        \n",
    "        new_number = incoming_number + value_str\n",
    "        value = int(value_str)\n",
    "        remainder = value % n\n",
    "        \n",
    "        if negative_term:\n",
    "            new_remainder = (incoming_remainder - remainder) % n\n",
    "        else:\n",
    "            new_remainder = (incoming_remainder + remainder) % n\n",
    "        \n",
    "        rem_digits = digit_set - set(c for c in value_str)\n",
    "        \n",
    "        if len(rem_digits) == 0: # this is the final term\n",
    "            candidate_count += 1\n",
    "            if new_remainder == 0: #qualifying number\n",
    "                number_string = f\"{int(new_number):,}\"\n",
    "                print(f\"{number_string} is divisible by {n:,}. (Candidate # {candidate_count:,})\")\n",
    "                yield new_number\n",
    "        else: # move on to next block\n",
    "            for result in ba_search_divisible_by(n, rem_digits, largest,\n",
    "                                                rule_block_size, alternating_addition,\n",
    "                                                new_remainder, new_number):\n",
    "                yield result\n",
    "\n",
    "\n",
    "%time ba_first_divisible_by(13, '987654321', True, 3, True)\n",
    "%time ba_first_divisible_by(13, '9876543210', True, 3, True)\n",
    "%time ba_first_divisible_by(13, '123456789', False, 3, True)\n",
    "%time ba_first_divisible_by(13, '1023456789', False, 3, True)\n",
    "print('-'*25)\n",
    "print_solution(13)"
   ]
  },
  {
   "cell_type": "markdown",
   "id": "b0e70c49",
   "metadata": {},
   "source": [
    "A tie, in both timing and number of candidates!\n",
    "\n",
    "So, it might seem useless to use all these divisibilty rules-- and perhaps while using a modern computer, with all the libraries included with a language like Python, it might be.\n",
    "\n",
    "But let's consider the calculations involved a little more carefully, and think about what these divisibility rules allow a human to do. In the case of finding the largest 0-9 pandigital number divisible by 13, either approach requires the evaluation of 9 candidates. The naive approach requires long division of 9 10-digit numbers by 13. Let's adapt our block-addition code to keep track of how many long divisions of blocks are required."
   ]
  },
  {
   "cell_type": "code",
   "execution_count": 29,
   "id": "401249f4",
   "metadata": {},
   "outputs": [
    {
     "name": "stdout",
     "output_type": "stream",
     "text": [
      "9,876,542,130 is divisible by 13. (Candidate # 9)\n",
      "  Block division counts: [(4, 1), (3, 1), (2, 2), (1, 9)]\n",
      "Wall time: 0 ns\n"
     ]
    },
    {
     "data": {
      "text/plain": [
       "(0, '9876542130')"
      ]
     },
     "execution_count": 29,
     "metadata": {},
     "output_type": "execute_result"
    }
   ],
   "source": [
    "from collections import defaultdict\n",
    "\n",
    "division_count = defaultdict(lambda: 0)\n",
    "\n",
    "\n",
    "def ba_search_divisible_by(n, digit_set, largest,\n",
    "                           rule_block_size, alternating_addition,\n",
    "                           incoming_remainder = 0, incoming_number = \"\"):\n",
    "    global candidate_count\n",
    "    \n",
    "    # how big is this block?\n",
    "    if len(digit_set) % rule_block_size == 0:\n",
    "        block_size = rule_block_size\n",
    "    else:\n",
    "        block_size = len(digit_set) % rule_block_size\n",
    "        \n",
    "    # determine if this is a negative term, if alternating addition is specified\n",
    "    if alternating_addition:\n",
    "        block_number = (len(digit_set) - block_size) // rule_block_size + 1\n",
    "        negative_term = block_number % 2 == 0\n",
    "    else:\n",
    "        negative_term = False\n",
    "        \n",
    "    for value_str in sorted(digit_subsets(digit_set, block_size), reverse=largest):\n",
    "        if incoming_number == \"\" and value_str[0] == '0': # leading 0s are not allowed\n",
    "            continue\n",
    "        \n",
    "        new_number = incoming_number + value_str\n",
    "        value = int(value_str)\n",
    "        remainder = value % n\n",
    "        division_count[block_number] += 1\n",
    "        \n",
    "        if negative_term:\n",
    "            new_remainder = (incoming_remainder - remainder) % n\n",
    "        else:\n",
    "            new_remainder = (incoming_remainder + remainder) % n\n",
    "        \n",
    "        rem_digits = digit_set - set(c for c in value_str)\n",
    "        \n",
    "        if len(rem_digits) == 0: # this is the final term\n",
    "            candidate_count += 1\n",
    "            if new_remainder == 0: #qualifying number\n",
    "                number_string = f\"{int(new_number):,}\"\n",
    "                print(f\"{number_string} is divisible by {n:,}. (Candidate # {candidate_count:,})\")\n",
    "                print(f\"  Block division counts: {sorted(division_count.items(), reverse=True)}\")\n",
    "                yield new_number\n",
    "        else: # move on to next block\n",
    "            for result in ba_search_divisible_by(n, rem_digits, largest,\n",
    "                                                rule_block_size, alternating_addition,\n",
    "                                                new_remainder, new_number):\n",
    "                yield result\n",
    "\n",
    "\n",
    "%time ba_first_divisible_by(13, '9876543210', True, 3, True)"
   ]
  },
  {
   "cell_type": "markdown",
   "id": "e6cc4138",
   "metadata": {},
   "source": [
    "Our method required 1 division of the first block (which was a 1-digit number, so barely counts), and then 12 divisions of the other blocks combined, each of which was a 2- or 3-digit number. 12 long-divisions of 3-digit numbers is far easier for a human (or slow computer) than 9 long-divisions of 10-digit numbers.\n",
    "\n",
    "So let's not throw out the divisibility rules just yet!"
   ]
  }
 ],
 "metadata": {
  "kernelspec": {
   "display_name": "Python 3",
   "language": "python",
   "name": "python3"
  },
  "language_info": {
   "codemirror_mode": {
    "name": "ipython",
    "version": 3
   },
   "file_extension": ".py",
   "mimetype": "text/x-python",
   "name": "python",
   "nbconvert_exporter": "python",
   "pygments_lexer": "ipython3",
   "version": "3.9.6"
  }
 },
 "nbformat": 4,
 "nbformat_minor": 5
}
